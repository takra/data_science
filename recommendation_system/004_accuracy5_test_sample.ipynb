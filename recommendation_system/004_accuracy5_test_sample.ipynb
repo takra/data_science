{
 "cells": [
  {
   "cell_type": "markdown",
   "metadata": {},
   "source": [
    "# <font color='#42AAFF'>Содержание</font><a id='toc0_'></a>    \n",
    "1. [<font color='#42AAFF'>Импорт данных</font>](#toc1_)    \n",
    "2. [<font color='#42AAFF'>Подготовка данных для тестирования классификатора</font>](#toc2_)    \n",
    "3. [<font color='#42AAFF'>Определение метрики на тестовой выборке</font>](#toc3_)    \n",
    "4. [<font color='#42AAFF'>Определение метрики на тестовой выборке c n_samples=500</font>](#toc4_)    \n",
    "5. [<font color='#42AAFF'>Заключение</font>](#toc5_)    \n",
    "\n",
    "<!-- vscode-jupyter-toc-config\n",
    "\tnumbering=true\n",
    "\tanchor=true\n",
    "\tflat=true\n",
    "\tminLevel=1\n",
    "\tmaxLevel=6\n",
    "\t/vscode-jupyter-toc-config -->\n",
    "<!-- THIS CELL WILL BE REPLACED ON TOC UPDATE. DO NOT WRITE YOUR TEXT IN THIS CELL -->"
   ]
  },
  {
   "cell_type": "code",
   "execution_count": 1,
   "metadata": {},
   "outputs": [],
   "source": [
    "import pandas as pd\n",
    "import numpy as np\n",
    "import time\n",
    "from catboost import Pool, cv, CatBoostClassifier\n",
    "from sklearn.model_selection import train_test_split\n",
    "from sklearn.metrics import accuracy_score\n",
    "from joblib import dump, load"
   ]
  },
  {
   "cell_type": "markdown",
   "metadata": {},
   "source": [
    "# 1. <a id='toc1_'></a>[<font color='#42AAFF'>Импорт данных</font>](#toc0_)"
   ]
  },
  {
   "cell_type": "markdown",
   "metadata": {},
   "source": [
    "Импортируем подготовленные признаки базовой и тестовой выборок:"
   ]
  },
  {
   "cell_type": "code",
   "execution_count": 33,
   "metadata": {},
   "outputs": [],
   "source": [
    "features_base = pd.read_csv(\"features_base.csv\", index_col=0).values\n",
    "features_test = pd.read_csv(\"features_test.csv\", index_col=0).values\n",
    "target_test = pd.read_csv(\"target_test.csv\", index_col=0).values"
   ]
  },
  {
   "cell_type": "markdown",
   "metadata": {},
   "source": [
    "Импортируем индексы кандидатов выбранной конфигурации кластеров в терминах базовых индексов, расстояния между целевыми векторами и кандидатами и словарь соответствия строк базового набора и названия объекта:"
   ]
  },
  {
   "cell_type": "code",
   "execution_count": 34,
   "metadata": {},
   "outputs": [],
   "source": [
    "idx = pd.read_csv(\"index_test1.csv\", index_col=0).values\n",
    "vecs = pd.read_csv(\"vecs_test1.csv\", index_col=0).values\n",
    "base_index = pd.read_csv(\"base_index_test1.csv\", index_col=0,header=None).to_dict()[1]"
   ]
  },
  {
   "cell_type": "markdown",
   "metadata": {},
   "source": [
    "# 2. <a id='toc2_'></a>[<font color='#42AAFF'>Подготовка данных для тестирования классификатора</font>](#toc0_)"
   ]
  },
  {
   "cell_type": "markdown",
   "metadata": {},
   "source": [
    "Напишем функцию, позволяющую подготовить данные для тестирования бинарного классификатора catboost. Матрица признаков состоит из 72 элементов целевого вектора, 72 элеменетов вектора-кандидата и квадрата расстояния между ними. Целевой признак в случае совпадения целевого вектора и вектора кандидата равен 1,  в противном случае 0."
   ]
  },
  {
   "cell_type": "code",
   "execution_count": 35,
   "metadata": {},
   "outputs": [],
   "source": [
    "def prepare_data(idx,dist,x_base,base_index,x,y):\n",
    "    idx_flat = idx.flatten()\n",
    "    dist = dist.flatten().reshape(idx.shape[0]*idx.shape[1],1)\n",
    "    data1 = x_base[idx_flat]\n",
    "    data2 = []\n",
    "    for ind in range(idx.shape[0]):    \n",
    "        data2.extend(np.repeat([x[ind]],idx.shape[1],axis=0))\n",
    "    data2 = np.array(data2)  \n",
    "    X = np.hstack((data2,data1,dist))\n",
    "\n",
    "    Y = []\n",
    "    for target, el in zip(y[:,0].tolist(), idx.tolist()):\n",
    "        for r in el:\n",
    "            Y.append(int(target in base_index[r]))\n",
    "    Y = np.array(Y)  \n",
    "    return X,Y"
   ]
  },
  {
   "cell_type": "markdown",
   "metadata": {},
   "source": [
    "Воспользуемся функцией подготовки данных для генерации признаков тренировочной выборки для обучения catboost:"
   ]
  },
  {
   "cell_type": "code",
   "execution_count": 36,
   "metadata": {},
   "outputs": [
    {
     "name": "stdout",
     "output_type": "stream",
     "text": [
      "Wall time: 17.9 s\n"
     ]
    }
   ],
   "source": [
    "%%time\n",
    "x_test, y_test = prepare_data(idx,vecs,features_base,base_index,features_test,target_test)"
   ]
  },
  {
   "cell_type": "markdown",
   "metadata": {},
   "source": [
    "# 3. <a id='toc3_'></a>[<font color='#42AAFF'>Определение метрики на тестовой выборке</font>](#toc0_)"
   ]
  },
  {
   "cell_type": "markdown",
   "metadata": {},
   "source": [
    "Загрузим предварительно оптимизированную модель catboost:"
   ]
  },
  {
   "cell_type": "code",
   "execution_count": 37,
   "metadata": {},
   "outputs": [],
   "source": [
    "model1 = load('model.joblib')"
   ]
  },
  {
   "cell_type": "markdown",
   "metadata": {},
   "source": [
    "Подготовим функцию для расчёта метрики accuracy@5:"
   ]
  },
  {
   "cell_type": "code",
   "execution_count": 42,
   "metadata": {},
   "outputs": [],
   "source": [
    "def calc_accuracy5(x,y,model,n_samples):\n",
    "    proba = model.predict_proba(x)[:,1]\n",
    "    proba = proba.reshape(int(x.shape[0]/n_samples),n_samples)\n",
    "    y = np.array(y).reshape(int(x.shape[0]/n_samples),n_samples)\n",
    "    acc5 = 0\n",
    "    rec_ind = []\n",
    "    for val,prob in zip(y,proba):\n",
    "        acc5 += np.sum(val[np.argsort(prob)[-5:]])\n",
    "        rec_ind.append(np.argsort(prob)[-5:])\n",
    "    acc5 = acc5/len(y)\n",
    "    return acc5, rec_ind"
   ]
  },
  {
   "cell_type": "code",
   "execution_count": 43,
   "metadata": {},
   "outputs": [
    {
     "name": "stdout",
     "output_type": "stream",
     "text": [
      "Wall time: 1min 52s\n"
     ]
    },
    {
     "data": {
      "text/plain": [
       "0.73255"
      ]
     },
     "execution_count": 43,
     "metadata": {},
     "output_type": "execute_result"
    }
   ],
   "source": [
    "%%time\n",
    "acc5, rec_idx = calc_accuracy5(x_test,y_test,model1,50)\n",
    "acc5"
   ]
  },
  {
   "cell_type": "markdown",
   "metadata": {},
   "source": [
    "Получили значение метрики ~0.733 для n_samples = 50."
   ]
  },
  {
   "cell_type": "markdown",
   "metadata": {},
   "source": [
    "# 4. <a id='toc4_'></a>[<font color='#42AAFF'>Определение метрики на тестовой выборке c n_samples=500</font>](#toc0_)"
   ]
  },
  {
   "cell_type": "code",
   "execution_count": 14,
   "metadata": {},
   "outputs": [],
   "source": [
    "idx = pd.read_csv(\"index_test2.csv\", index_col=0).values\n",
    "vecs = pd.read_csv(\"vecs_test2.csv\", index_col=0).values\n",
    "base_index = pd.read_csv(\"base_index_test2.csv\", index_col=0,header=None).to_dict()[1]"
   ]
  },
  {
   "cell_type": "code",
   "execution_count": 11,
   "metadata": {},
   "outputs": [
    {
     "data": {
      "text/plain": [
       "(100000, 500)"
      ]
     },
     "execution_count": 11,
     "metadata": {},
     "output_type": "execute_result"
    }
   ],
   "source": [
    "idx.shape"
   ]
  },
  {
   "cell_type": "code",
   "execution_count": 21,
   "metadata": {},
   "outputs": [
    {
     "data": {
      "text/plain": [
       "49500"
      ]
     },
     "execution_count": 21,
     "metadata": {},
     "output_type": "execute_result"
    }
   ],
   "source": [
    " idx[1:100].flatten().shape[0]"
   ]
  },
  {
   "cell_type": "code",
   "execution_count": 22,
   "metadata": {},
   "outputs": [
    {
     "data": {
      "text/plain": [
       "array([[29.768549],\n",
       "       [31.133074],\n",
       "       [36.491787],\n",
       "       ...,\n",
       "       [69.43155 ],\n",
       "       [69.43515 ],\n",
       "       [69.46259 ]])"
      ]
     },
     "execution_count": 22,
     "metadata": {},
     "output_type": "execute_result"
    }
   ],
   "source": [
    "vecs[1:100].flatten().reshape(49500,1)"
   ]
  },
  {
   "cell_type": "code",
   "execution_count": 31,
   "metadata": {},
   "outputs": [],
   "source": [
    "def calc_accuracy5_big_data(idx,dist,x_base,base_index,x,y,model,k_folds=10):\n",
    "    \n",
    "    acc5 = 0\n",
    "    #формируем индексы разбиений\n",
    "    fold_size = idx.shape[0] // k_folds\n",
    "    ind_folds = []\n",
    "    for i in range(k_folds):\n",
    "        ind_folds.append(np.arange(fold_size)+i*fold_size)\n",
    "\n",
    "    for ind_fold in ind_folds:\n",
    "        #формируем массив X для фолда\n",
    "        idx_flat = idx[ind_fold].flatten()\n",
    "        #print(idx_flat.shape)\n",
    "        dist_flat = dist[ind_fold].flatten().reshape(idx_flat.shape[0],1)\n",
    "        #print(dist.shape)\n",
    "        #print(type(dist))\n",
    "        data1 = x_base[idx_flat]\n",
    "        data2 = []\n",
    "        for ind in range(fold_size):    \n",
    "            data2.extend(np.repeat([x[ind]],idx.shape[1],axis=0))\n",
    "        data2 = np.array(data2)  \n",
    "        X = np.hstack((data2,data1,dist_flat))\n",
    "        #формируем массив Y для фолда\n",
    "        Y = []\n",
    "        for target, el in zip(y[ind_fold,0].tolist(), idx[ind_fold].tolist()):\n",
    "            for r in el:\n",
    "                Y.append(int(target in base_index[r]))          \n",
    "        #считаем метрику\n",
    "        proba = model.predict_proba(X)[:,1]\n",
    "        proba = proba.reshape(fold_size,idx.shape[1])\n",
    "        Y = np.array(Y).reshape(fold_size,idx.shape[1])\n",
    "        \n",
    "        for val,prob in zip(Y,proba):\n",
    "            acc5 += np.sum(val[np.argsort(prob)[-5:]]) \n",
    "        print(acc5)\n",
    "    acc5 = acc5/idx.shape[0]\n",
    "    return acc5"
   ]
  },
  {
   "cell_type": "code",
   "execution_count": 32,
   "metadata": {},
   "outputs": [
    {
     "name": "stdout",
     "output_type": "stream",
     "text": [
      "7690\n",
      "12308\n",
      "17029\n",
      "21651\n",
      "26344\n",
      "31068\n",
      "35802\n",
      "40459\n",
      "45132\n",
      "49935\n"
     ]
    },
    {
     "data": {
      "text/plain": [
       "0.49935"
      ]
     },
     "execution_count": 32,
     "metadata": {},
     "output_type": "execute_result"
    }
   ],
   "source": [
    "calc_accuracy5_big_data(idx,vecs,features_base,base_index,features_test,target_test,model1)"
   ]
  },
  {
   "cell_type": "markdown",
   "metadata": {},
   "source": [
    "Как видно из полученного результата, классификатор обученный при одном дисбалансе классов даёт результаты сильно хуже при другом"
   ]
  },
  {
   "cell_type": "markdown",
   "metadata": {},
   "source": [
    "# 5. <a id='toc5_'></a>[<font color='#42AAFF'>Заключение</font>](#toc0_)"
   ]
  },
  {
   "cell_type": "markdown",
   "metadata": {},
   "source": [
    "1. Разработан 2х ступенчатый алгоритм рекомендательной системы, на первом этапе для отбора кандидатов применен faiss, а на втором полученная выборка использовалась для обучения бинарного классификатора catboost. После чего к результатам классификации применено ранжирование.\n",
    "2. При количестве кандидатов faiss=50 получено значение целевой метрики на тестовой выборке accuracy@5 = 0.733"
   ]
  }
 ],
 "metadata": {
  "kernelspec": {
   "display_name": "mlfaiss",
   "language": "python",
   "name": "python3"
  },
  "language_info": {
   "codemirror_mode": {
    "name": "ipython",
    "version": 3
   },
   "file_extension": ".py",
   "mimetype": "text/x-python",
   "name": "python",
   "nbconvert_exporter": "python",
   "pygments_lexer": "ipython3",
   "version": "3.9.13"
  },
  "orig_nbformat": 4
 },
 "nbformat": 4,
 "nbformat_minor": 2
}
